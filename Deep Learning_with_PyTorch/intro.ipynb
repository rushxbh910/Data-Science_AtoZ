{
 "cells": [
  {
   "cell_type": "code",
   "execution_count": 5,
   "id": "24ab4cc8",
   "metadata": {},
   "outputs": [],
   "source": [
    "import torch"
   ]
  },
  {
   "cell_type": "code",
   "execution_count": 6,
   "id": "2e038bf4",
   "metadata": {},
   "outputs": [
    {
     "name": "stdout",
     "output_type": "stream",
     "text": [
      "2.7.0+cu118\n"
     ]
    }
   ],
   "source": [
    "import torch\n",
    "print(torch.__version__)"
   ]
  },
  {
   "cell_type": "code",
   "execution_count": 7,
   "id": "ccf795a7",
   "metadata": {},
   "outputs": [
    {
     "name": "stdout",
     "output_type": "stream",
     "text": [
      "True\n"
     ]
    }
   ],
   "source": [
    "import torch\n",
    "print(torch.cuda.is_available())\n"
   ]
  },
  {
   "cell_type": "code",
   "execution_count": 8,
   "id": "33387320",
   "metadata": {},
   "outputs": [
    {
     "name": "stdout",
     "output_type": "stream",
     "text": [
      "True\n",
      "NVIDIA GeForce GTX 1660 Ti with Max-Q Design\n"
     ]
    }
   ],
   "source": [
    "import torch\n",
    "print(torch.cuda.is_available())  # Should print True\n",
    "print(torch.cuda.get_device_name())  # Should show your GPU name"
   ]
  },
  {
   "cell_type": "markdown",
   "id": "24fe2a4a",
   "metadata": {},
   "source": [
    "- a torch.Tensor is a multi dimensional matrix cntaining elements of a single data type.\n",
    "- similar to numpy arrays, but full of fun  things that make them work better on gpus vs regular cpus.\n",
    "- default data type of float32.\n",
    "- more suitable for deep learning than a numpy array."
   ]
  },
  {
   "cell_type": "code",
   "execution_count": 9,
   "id": "9a06f711",
   "metadata": {},
   "outputs": [],
   "source": [
    "import torch\n",
    "import numpy as np"
   ]
  },
  {
   "cell_type": "code",
   "execution_count": 13,
   "id": "459c2762",
   "metadata": {},
   "outputs": [
    {
     "name": "stdout",
     "output_type": "stream",
     "text": [
      "[[0.74488704 0.37913168 0.72651791 0.29682957]\n",
      " [0.47453249 0.21334431 0.38906345 0.88145231]\n",
      " [0.07319936 0.63103673 0.40762054 0.83700311]]\n",
      "float64\n"
     ]
    }
   ],
   "source": [
    "#numpy arrays\n",
    "\n",
    "np1=np.random.rand(3,4)\n",
    "print(np1)\n",
    "print(np1.dtype)"
   ]
  },
  {
   "cell_type": "markdown",
   "id": "8b1a5bf9",
   "metadata": {},
   "source": [
    "Tensors"
   ]
  },
  {
   "cell_type": "code",
   "execution_count": null,
   "id": "6fee9ba9",
   "metadata": {},
   "outputs": [
    {
     "data": {
      "text/plain": [
       "tensor([[ 1.5885,  0.5957, -0.1620, -0.0567],\n",
       "        [ 1.9813,  0.2722,  0.5863,  0.4585],\n",
       "        [-1.6148,  1.2253, -0.8909, -1.6279]])"
      ]
     },
     "execution_count": 17,
     "metadata": {},
     "output_type": "execute_result"
    }
   ],
   "source": [
    "#2 dimensional\n",
    "tensor=torch.randn(3,4)\n",
    "tensor"
   ]
  },
  {
   "cell_type": "code",
   "execution_count": 22,
   "id": "86bbd906",
   "metadata": {},
   "outputs": [
    {
     "name": "stdout",
     "output_type": "stream",
     "text": [
      "tensor([[[-1.5568,  0.2734, -2.1973,  0.6591],\n",
      "         [ 0.3655, -0.4375, -0.2806,  0.7563],\n",
      "         [ 1.2645, -1.5710, -0.5049,  0.8445]],\n",
      "\n",
      "        [[-0.8055, -0.8481, -0.3073,  0.7815],\n",
      "         [ 0.9361, -0.1701, -0.0330, -0.1475],\n",
      "         [ 0.9495, -0.2328, -0.2631,  0.6720]]])\n",
      "torch.float32\n"
     ]
    }
   ],
   "source": [
    "#3 dimendional\n",
    "tensor2=torch.randn(2,3,4)\n",
    "print(tensor2)\n",
    "print(tensor2.dtype)"
   ]
  },
  {
   "cell_type": "code",
   "execution_count": 21,
   "id": "2386b5f9",
   "metadata": {},
   "outputs": [
    {
     "data": {
      "text/plain": [
       "tensor([[0.7449, 0.3791, 0.7265, 0.2968],\n",
       "        [0.4745, 0.2133, 0.3891, 0.8815],\n",
       "        [0.0732, 0.6310, 0.4076, 0.8370]], dtype=torch.float64)"
      ]
     },
     "execution_count": 21,
     "metadata": {},
     "output_type": "execute_result"
    }
   ],
   "source": [
    "#create tensor out of numpy array\n",
    "array_to_tensor=torch.tensor(np1)\n",
    "array_to_tensor"
   ]
  },
  {
   "cell_type": "markdown",
   "id": "0c75c3e2",
   "metadata": {},
   "source": [
    "Tensor Operations - Reshape and slice"
   ]
  },
  {
   "cell_type": "code",
   "execution_count": 24,
   "id": "34336df1",
   "metadata": {},
   "outputs": [
    {
     "data": {
      "text/plain": [
       "tensor([0, 1, 2, 3, 4, 5, 6, 7, 8, 9])"
      ]
     },
     "execution_count": 24,
     "metadata": {},
     "output_type": "execute_result"
    }
   ],
   "source": [
    "my_torch=torch.arange(10)\n",
    "my_torch"
   ]
  },
  {
   "cell_type": "code",
   "execution_count": null,
   "id": "ac08d56b",
   "metadata": {},
   "outputs": [
    {
     "data": {
      "text/plain": [
       "tensor([[0, 1, 2, 3, 4],\n",
       "        [5, 6, 7, 8, 9]])"
      ]
     },
     "execution_count": 29,
     "metadata": {},
     "output_type": "execute_result"
    }
   ],
   "source": [
    "#Reshape\n",
    "\n",
    "my_torch=my_torch.reshape(2,5)\n",
    "my_torch"
   ]
  },
  {
   "cell_type": "code",
   "execution_count": 35,
   "id": "def7f93e",
   "metadata": {},
   "outputs": [
    {
     "data": {
      "text/plain": [
       "tensor([ 0,  1,  2,  3,  4,  5,  6,  7,  8,  9, 10, 11, 12, 13, 14])"
      ]
     },
     "execution_count": 35,
     "metadata": {},
     "output_type": "execute_result"
    }
   ],
   "source": [
    "# reshape if we dont know the number of items\n",
    "my_torch2=torch.arange(15)\n",
    "my_torch2"
   ]
  },
  {
   "cell_type": "code",
   "execution_count": 37,
   "id": "06aa23c8",
   "metadata": {},
   "outputs": [
    {
     "data": {
      "text/plain": [
       "tensor([[ 0,  1,  2,  3,  4],\n",
       "        [ 5,  6,  7,  8,  9],\n",
       "        [10, 11, 12, 13, 14]])"
      ]
     },
     "execution_count": 37,
     "metadata": {},
     "output_type": "execute_result"
    }
   ],
   "source": [
    "my_torch2=my_torch2.reshape(3,-1)\n",
    "my_torch2"
   ]
  },
  {
   "cell_type": "code",
   "execution_count": null,
   "id": "7a993e3e",
   "metadata": {},
   "outputs": [
    {
     "data": {
      "text/plain": [
       "tensor([0, 1, 2, 3, 4, 5, 6, 7, 8, 9])"
      ]
     },
     "execution_count": 38,
     "metadata": {},
     "output_type": "execute_result"
    }
   ],
   "source": [
    "#view\n",
    "my_torch3=torch.arange(10)\n",
    "my_torch3"
   ]
  },
  {
   "cell_type": "code",
   "execution_count": 40,
   "id": "d24fea5d",
   "metadata": {},
   "outputs": [
    {
     "data": {
      "text/plain": [
       "tensor([[0, 1, 2, 3, 4],\n",
       "        [5, 6, 7, 8, 9]])"
      ]
     },
     "execution_count": 40,
     "metadata": {},
     "output_type": "execute_result"
    }
   ],
   "source": [
    "my_torch3=my_torch3.view(2,5)\n",
    "my_torch3"
   ]
  },
  {
   "cell_type": "markdown",
   "id": "c156526b",
   "metadata": {},
   "source": [
    "changes in one variable makes changes to another variable in reshape and view"
   ]
  },
  {
   "cell_type": "code",
   "execution_count": 51,
   "id": "bffe0703",
   "metadata": {},
   "outputs": [
    {
     "data": {
      "text/plain": [
       "tensor([0, 1, 2, 3, 4, 5, 6, 7, 8, 9])"
      ]
     },
     "execution_count": 51,
     "metadata": {},
     "output_type": "execute_result"
    }
   ],
   "source": [
    "my_torch4=torch.arange(10)\n",
    "my_torch4"
   ]
  },
  {
   "cell_type": "code",
   "execution_count": 52,
   "id": "7dbafa44",
   "metadata": {},
   "outputs": [
    {
     "data": {
      "text/plain": [
       "tensor([[0, 1, 2, 3, 4],\n",
       "        [5, 6, 7, 8, 9]])"
      ]
     },
     "execution_count": 52,
     "metadata": {},
     "output_type": "execute_result"
    }
   ],
   "source": [
    "my_torch5=my_torch4.reshape(2,-1)\n",
    "my_torch5"
   ]
  },
  {
   "cell_type": "code",
   "execution_count": 54,
   "id": "40de5742",
   "metadata": {},
   "outputs": [
    {
     "data": {
      "text/plain": [
       "tensor([ 0, 50,  2,  3,  4,  5,  6,  7,  8,  9])"
      ]
     },
     "execution_count": 54,
     "metadata": {},
     "output_type": "execute_result"
    }
   ],
   "source": [
    "my_torch4[1]=50\n",
    "my_torch4"
   ]
  },
  {
   "cell_type": "code",
   "execution_count": 55,
   "id": "25e8a2b0",
   "metadata": {},
   "outputs": [
    {
     "data": {
      "text/plain": [
       "tensor([[ 0, 50,  2,  3,  4],\n",
       "        [ 5,  6,  7,  8,  9]])"
      ]
     },
     "execution_count": 55,
     "metadata": {},
     "output_type": "execute_result"
    }
   ],
   "source": [
    "my_torch5"
   ]
  },
  {
   "cell_type": "markdown",
   "id": "0b8d5a4b",
   "metadata": {},
   "source": [
    "we can see that my_torch5 was a reshaped version of my_torch4 and that any changes to my_torch4 made changes to my_torch5 as well"
   ]
  },
  {
   "cell_type": "markdown",
   "id": "4fa07305",
   "metadata": {},
   "source": [
    "Slicing"
   ]
  },
  {
   "cell_type": "code",
   "execution_count": 57,
   "id": "5d30375a",
   "metadata": {},
   "outputs": [
    {
     "data": {
      "text/plain": [
       "tensor([0, 1, 2, 3, 4, 5, 6, 7, 8, 9])"
      ]
     },
     "execution_count": 57,
     "metadata": {},
     "output_type": "execute_result"
    }
   ],
   "source": [
    "my_torch7=torch.arange(10)\n",
    "my_torch7"
   ]
  },
  {
   "cell_type": "code",
   "execution_count": 63,
   "id": "52acf439",
   "metadata": {},
   "outputs": [
    {
     "data": {
      "text/plain": [
       "tensor([0, 1, 2, 3, 4])"
      ]
     },
     "execution_count": 63,
     "metadata": {},
     "output_type": "execute_result"
    }
   ],
   "source": [
    "my_torch7[:5:]"
   ]
  },
  {
   "cell_type": "code",
   "execution_count": 65,
   "id": "4e3b61c5",
   "metadata": {},
   "outputs": [
    {
     "data": {
      "text/plain": [
       "tensor([[0, 1, 2, 3, 4],\n",
       "        [5, 6, 7, 8, 9]])"
      ]
     },
     "execution_count": 65,
     "metadata": {},
     "output_type": "execute_result"
    }
   ],
   "source": [
    "my_torch8=my_torch7.reshape(2,-1)\n",
    "my_torch8"
   ]
  },
  {
   "cell_type": "code",
   "execution_count": 81,
   "id": "1bdea87c",
   "metadata": {},
   "outputs": [
    {
     "data": {
      "text/plain": [
       "tensor([5, 6])"
      ]
     },
     "execution_count": 81,
     "metadata": {},
     "output_type": "execute_result"
    }
   ],
   "source": [
    "my_torch8[1,0:2:1]"
   ]
  },
  {
   "cell_type": "markdown",
   "id": "218fdaa9",
   "metadata": {},
   "source": [
    "Tensor Math Operation- Add, Sub, Div, Mul, Remainders, Exponents, Shorthand, Longhand, Reassignment"
   ]
  },
  {
   "cell_type": "code",
   "execution_count": 88,
   "id": "4b5241c7",
   "metadata": {},
   "outputs": [
    {
     "data": {
      "text/plain": [
       "torch.float32"
      ]
     },
     "execution_count": 88,
     "metadata": {},
     "output_type": "execute_result"
    }
   ],
   "source": [
    "my_torch9=torch.tensor([1,1.234,1.0])\n",
    "my_torch9.dtype"
   ]
  },
  {
   "cell_type": "code",
   "execution_count": null,
   "id": "557b326e",
   "metadata": {},
   "outputs": [],
   "source": []
  }
 ],
 "metadata": {
  "kernelspec": {
   "display_name": "Python 3",
   "language": "python",
   "name": "python3"
  },
  "language_info": {
   "codemirror_mode": {
    "name": "ipython",
    "version": 3
   },
   "file_extension": ".py",
   "mimetype": "text/x-python",
   "name": "python",
   "nbconvert_exporter": "python",
   "pygments_lexer": "ipython3",
   "version": "3.13.3"
  }
 },
 "nbformat": 4,
 "nbformat_minor": 5
}
