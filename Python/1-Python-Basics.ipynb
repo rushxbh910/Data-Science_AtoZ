{
 "cells": [
  {
   "cell_type": "markdown",
   "metadata": {},
   "source": [
    "PYTHON BASICS"
   ]
  },
  {
   "cell_type": "code",
   "execution_count": 4,
   "metadata": {},
   "outputs": [
    {
     "data": {
      "text/plain": [
       "int"
      ]
     },
     "execution_count": 4,
     "metadata": {},
     "output_type": "execute_result"
    }
   ],
   "source": [
    "a=10\n",
    "type(a)"
   ]
  },
  {
   "cell_type": "code",
   "execution_count": 5,
   "metadata": {},
   "outputs": [
    {
     "data": {
      "text/plain": [
       "str"
      ]
     },
     "execution_count": 5,
     "metadata": {},
     "output_type": "execute_result"
    }
   ],
   "source": [
    "b=\"rush\"\n",
    "type(b)"
   ]
  },
  {
   "cell_type": "code",
   "execution_count": 12,
   "metadata": {},
   "outputs": [],
   "source": [
    "c=10"
   ]
  },
  {
   "cell_type": "code",
   "execution_count": 13,
   "metadata": {},
   "outputs": [
    {
     "data": {
      "text/plain": [
       "True"
      ]
     },
     "execution_count": 13,
     "metadata": {},
     "output_type": "execute_result"
    }
   ],
   "source": [
    "##typecasting\n",
    "float(c)\n",
    "bool(1)"
   ]
  },
  {
   "cell_type": "code",
   "execution_count": null,
   "metadata": {},
   "outputs": [
    {
     "data": {
      "text/plain": [
       "complex"
      ]
     },
     "execution_count": 8,
     "metadata": {},
     "output_type": "execute_result"
    }
   ],
   "source": [
    "#complex nos\n",
    "j=1.0-2.3j\n",
    "type(j)"
   ]
  },
  {
   "cell_type": "code",
   "execution_count": 10,
   "metadata": {},
   "outputs": [
    {
     "name": "stdout",
     "output_type": "stream",
     "text": [
      "1.0 -2.3\n"
     ]
    }
   ],
   "source": [
    "print(j.real,j.imag)"
   ]
  },
  {
   "cell_type": "code",
   "execution_count": 12,
   "metadata": {},
   "outputs": [
    {
     "name": "stdout",
     "output_type": "stream",
     "text": [
      "my first name is rushabh and last name is bhatt\n"
     ]
    }
   ],
   "source": [
    "#String Formatting\n",
    "f_name='rushabh'\n",
    "l_name='bhatt'\n",
    "\n",
    "print(\"my first name is {} and last name is {}\".format(f_name,l_name))"
   ]
  },
  {
   "cell_type": "code",
   "execution_count": 13,
   "metadata": {},
   "outputs": [
    {
     "name": "stdout",
     "output_type": "stream",
     "text": [
      "my first name is bhatt and last name is rushabh\n"
     ]
    }
   ],
   "source": [
    "#String Formatting - changing place holders\n",
    "f_name='rushabh'\n",
    "l_name='bhatt'\n",
    "\n",
    "print(\"my first name is {1} and last name is {0}\".format(f_name,l_name))"
   ]
  },
  {
   "cell_type": "code",
   "execution_count": 14,
   "metadata": {},
   "outputs": [
    {
     "name": "stdout",
     "output_type": "stream",
     "text": [
      "my first name is rushabh and last name is bhatt\n"
     ]
    }
   ],
   "source": [
    "#String Formatting - changing place holders\n",
    "f_name='rushabh'\n",
    "l_name='bhatt'\n",
    "\n",
    "print(\"my first name is {1} and last name is {0}\".format(l_name,f_name))"
   ]
  },
  {
   "cell_type": "code",
   "execution_count": 16,
   "metadata": {},
   "outputs": [
    {
     "name": "stdout",
     "output_type": "stream",
     "text": [
      "my first name is rushabh and last name is bhatt\n"
     ]
    }
   ],
   "source": [
    "#String Formatting - using diff initialization\n",
    "f_name='rushabh'\n",
    "l_name='bhatt'\n",
    "\n",
    "print(\"my first name is {b} and last name is {a}\".format(a=l_name,b=f_name))"
   ]
  },
  {
   "cell_type": "code",
   "execution_count": 20,
   "metadata": {},
   "outputs": [
    {
     "data": {
      "text/plain": [
       "20"
      ]
     },
     "execution_count": 20,
     "metadata": {},
     "output_type": "execute_result"
    }
   ],
   "source": [
    "##input\n",
    "a=input(\"enter no a\")\n",
    "b=input(\"enter no b\")\n",
    "int(a)+int(b)"
   ]
  },
  {
   "cell_type": "markdown",
   "metadata": {},
   "source": [
    "control flow- if =, if-else, nested if, list- data structure, for loop, while, break, continue"
   ]
  },
  {
   "cell_type": "code",
   "execution_count": 10,
   "metadata": {},
   "outputs": [
    {
     "name": "stdout",
     "output_type": "stream",
     "text": [
      "sum of even nos 12\n",
      "sum of odd nos 16\n"
     ]
    }
   ],
   "source": [
    "lst=[1,2,3,4,5,6,7]\n",
    "se=0 \n",
    "so=0\n",
    "for i in lst:\n",
    "    if (i%2==0):\n",
    "        se=se+i\n",
    "    else:\n",
    "        so=so+i\n",
    "print(\"sum of even nos\",se)\n",
    "\n",
    "print(\"sum of odd nos\",so)\n"
   ]
  },
  {
   "cell_type": "markdown",
   "metadata": {},
   "source": [
    "Python Operators- logical, equality, comparison, arithmetic"
   ]
  },
  {
   "cell_type": "code",
   "execution_count": null,
   "metadata": {},
   "outputs": [],
   "source": [
    "\"\"\"\n",
    "logical- not, and , or \n",
    "Equality- is, is not, ==, !=\n",
    "comparison- <,<=, >, >=\n",
    "arithmetic- +, -, *, /(true division), //(integer division), %\n",
    "\"\"\""
   ]
  },
  {
   "cell_type": "code",
   "execution_count": 10,
   "metadata": {},
   "outputs": [
    {
     "data": {
      "text/plain": [
       "'difference between is and ==\\n\\n== - check if the values are the same\\nis - checks if the variables are pointed to the same object memory location'"
      ]
     },
     "execution_count": 10,
     "metadata": {},
     "output_type": "execute_result"
    }
   ],
   "source": [
    "\"\"\"difference between is and ==\n",
    "\n",
    "== - check if the values are the same\n",
    "is - checks if the variables are pointed to the same object memory location\"\"\""
   ]
  },
  {
   "cell_type": "code",
   "execution_count": 1,
   "metadata": {},
   "outputs": [
    {
     "data": {
      "text/plain": [
       "True"
      ]
     },
     "execution_count": 1,
     "metadata": {},
     "output_type": "execute_result"
    }
   ],
   "source": [
    "#==\n",
    "a=\"rush\"\n",
    "b=\"rush\"\n",
    "a==b"
   ]
  },
  {
   "cell_type": "code",
   "execution_count": 9,
   "metadata": {},
   "outputs": [
    {
     "name": "stdout",
     "output_type": "stream",
     "text": [
      "1569911520448\n",
      "1569911520448\n",
      "True\n"
     ]
    }
   ],
   "source": [
    "#is\n",
    "a=\"rush\"\n",
    "b=\"rush\"\n",
    "print(id(a)) #id is memory location, basically we check if they point to the same object/memory location\n",
    "print(id(b))\n",
    "print(a is b)"
   ]
  },
  {
   "cell_type": "code",
   "execution_count": 8,
   "metadata": {},
   "outputs": [
    {
     "name": "stdout",
     "output_type": "stream",
     "text": [
      "1569913160960\n",
      "1569911612224\n",
      "True\n",
      "False\n"
     ]
    }
   ],
   "source": [
    "list1=[1,2,3]\n",
    "list2=[1,2,3]\n",
    "\n",
    "print(id(list1))\n",
    "print(id(list2))\n",
    "\n",
    "#we can see that both the list arent pointing at the same object/mem location even though their values are the same so in the case of list\n",
    "#we get list1 is list2 as false, but if we compare their values list1 == list2 we get true\n",
    "print(list1 == list2)\n",
    "print(list1 is list2)"
   ]
  }
 ],
 "metadata": {
  "kernelspec": {
   "display_name": "Python 3",
   "language": "python",
   "name": "python3"
  },
  "language_info": {
   "codemirror_mode": {
    "name": "ipython",
    "version": 3
   },
   "file_extension": ".py",
   "mimetype": "text/x-python",
   "name": "python",
   "nbconvert_exporter": "python",
   "pygments_lexer": "ipython3",
   "version": "3.13.0"
  }
 },
 "nbformat": 4,
 "nbformat_minor": 2
}
