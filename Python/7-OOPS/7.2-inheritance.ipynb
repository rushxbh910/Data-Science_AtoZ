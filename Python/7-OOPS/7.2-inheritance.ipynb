{
 "cells": [
  {
   "cell_type": "markdown",
   "metadata": {},
   "source": [
    "Single and Multiple Inheritance"
   ]
  },
  {
   "cell_type": "code",
   "execution_count": 11,
   "metadata": {},
   "outputs": [],
   "source": [
    "#single inheritance\n",
    "#parent class\n",
    "class car:\n",
    "    def __init__(self,windows,doors,enginetype):\n",
    "        self.windows=windows\n",
    "        self.doors=doors\n",
    "        self.enginetype=enginetype\n",
    "    def drive(self):\n",
    "        print(f\"the person will drive {self.enginetype} car\")\n",
    "    "
   ]
  },
  {
   "cell_type": "code",
   "execution_count": 5,
   "metadata": {},
   "outputs": [
    {
     "name": "stdout",
     "output_type": "stream",
     "text": [
      "the person will drive petrol car\n"
     ]
    }
   ],
   "source": [
    "car1=car(4,5,\"petrol\")\n",
    "car1.drive()"
   ]
  },
  {
   "cell_type": "code",
   "execution_count": 7,
   "metadata": {},
   "outputs": [],
   "source": [
    "class tesla(car):\n",
    "    def __init__(self,windows,doors,enginetype,is_selfdriving):\n",
    "        super().__init__(windows,doors,enginetype)\n",
    "        self.is_selfdriving=is_selfdriving\n",
    "    \n",
    "    def selfdriving(self):\n",
    "        print(f\"tesla supports self driving- {self.is_selfdriving}\")"
   ]
  },
  {
   "cell_type": "code",
   "execution_count": 8,
   "metadata": {},
   "outputs": [
    {
     "name": "stdout",
     "output_type": "stream",
     "text": [
      "tesla supports self driving- True\n",
      "None\n"
     ]
    }
   ],
   "source": [
    "tesla1=tesla(4,5,\"electric\",True)\n",
    "print(tesla1.selfdriving())"
   ]
  },
  {
   "cell_type": "code",
   "execution_count": 9,
   "metadata": {},
   "outputs": [
    {
     "name": "stdout",
     "output_type": "stream",
     "text": [
      "the person will drive electric car\n"
     ]
    }
   ],
   "source": [
    "tesla1.drive() #tesla"
   ]
  },
  {
   "cell_type": "code",
   "execution_count": 14,
   "metadata": {},
   "outputs": [],
   "source": [
    "#multiple inheritance\n",
    "#when a class inherits from more than one base class\n",
    "\n",
    "#base class1\n",
    "class animal:\n",
    "    def __init__(self,name): #name-attribute\n",
    "        self.name=name\n",
    "\n",
    "    def speak(self):\n",
    "        print(\"sub classes must implement this method\")\n",
    "\n",
    "#base class2\n",
    "class pet:\n",
    "    def __init__(self,owner):\n",
    "        self.owner=owner\n",
    "\n",
    "#derived class\n",
    "class dog(animal,pet):\n",
    "    def __init__(self,name,owner): #derived attributes from base class 1 and base class 2\n",
    "        animal.__init__(self,name)\n",
    "        pet.__init__(self,owner)\n",
    "    \n",
    "    def speak(self):\n",
    "        return f\"{self.name} says woof\""
   ]
  },
  {
   "cell_type": "code",
   "execution_count": 17,
   "metadata": {},
   "outputs": [
    {
     "name": "stdout",
     "output_type": "stream",
     "text": [
      "qwerty says woof\n",
      "owner:rushabh\n"
     ]
    }
   ],
   "source": [
    "#create object\n",
    "\n",
    "dog1=dog(\"qwerty\",\"rushabh\")\n",
    "print(dog1.speak())\n",
    "print(f\"owner:{dog1.owner}\")"
   ]
  }
 ],
 "metadata": {
  "kernelspec": {
   "display_name": "Python 3",
   "language": "python",
   "name": "python3"
  },
  "language_info": {
   "codemirror_mode": {
    "name": "ipython",
    "version": 3
   },
   "file_extension": ".py",
   "mimetype": "text/x-python",
   "name": "python",
   "nbconvert_exporter": "python",
   "pygments_lexer": "ipython3",
   "version": "3.13.0"
  }
 },
 "nbformat": 4,
 "nbformat_minor": 2
}
