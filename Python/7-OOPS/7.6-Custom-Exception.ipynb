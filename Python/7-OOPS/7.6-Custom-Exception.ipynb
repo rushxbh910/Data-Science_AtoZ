{
 "cells": [
  {
   "cell_type": "markdown",
   "metadata": {},
   "source": [
    "#### Custom Exception"
   ]
  },
  {
   "cell_type": "code",
   "execution_count": 16,
   "metadata": {},
   "outputs": [],
   "source": [
    "class Error(Exception):\n",
    "    pass\n",
    "\n",
    "class dobException(Error):\n",
    "    pass"
   ]
  },
  {
   "cell_type": "code",
   "execution_count": 17,
   "metadata": {},
   "outputs": [
    {
     "name": "stdout",
     "output_type": "stream",
     "text": [
      "the age is not valid\n"
     ]
    }
   ],
   "source": [
    "year=int(input(\"Enter dob\"))\n",
    "age=2024-year\n",
    "\n",
    "try:\n",
    "    if age<=30 and age>=20:\n",
    "        print(\"the age is valid! so you can apply!\")\n",
    "\n",
    "    else:\n",
    "        raise dobException\n",
    "    \n",
    "except dobException:\n",
    "    print(\"the age is not valid\")"
   ]
  },
  {
   "cell_type": "markdown",
   "metadata": {},
   "source": []
  },
  {
   "cell_type": "code",
   "execution_count": 1,
   "metadata": {},
   "outputs": [],
   "source": [
    "class Error(Exception):\n",
    "    pass\n",
    "\n",
    "class dobException(Error):\n",
    "    def __init__(self, invalid_age):\n",
    "        self.invalid_age=invalid_age\n",
    "        super().__init__(f\"DOB error: Age is not valid., invalid age : {self.invalid_age}\")"
   ]
  },
  {
   "cell_type": "code",
   "execution_count": 2,
   "metadata": {},
   "outputs": [
    {
     "name": "stdout",
     "output_type": "stream",
     "text": [
      "DOB error: Age is not valid., invalid age : -7976\n"
     ]
    }
   ],
   "source": [
    "year=int(input(\"Enter dob\"))\n",
    "age=2024-year\n",
    "\n",
    "try:\n",
    "    if age<=30 and age>=20:\n",
    "        print(\"the age is valid! so you can apply!\")\n",
    "\n",
    "    else:\n",
    "        raise dobException(age)\n",
    "\n",
    "except dobException as ex:\n",
    "    print(ex)"
   ]
  },
  {
   "cell_type": "code",
   "execution_count": null,
   "metadata": {},
   "outputs": [],
   "source": []
  },
  {
   "cell_type": "code",
   "execution_count": null,
   "metadata": {},
   "outputs": [],
   "source": []
  }
 ],
 "metadata": {
  "kernelspec": {
   "display_name": "Python 3",
   "language": "python",
   "name": "python3"
  },
  "language_info": {
   "codemirror_mode": {
    "name": "ipython",
    "version": 3
   },
   "file_extension": ".py",
   "mimetype": "text/x-python",
   "name": "python",
   "nbconvert_exporter": "python",
   "pygments_lexer": "ipython3",
   "version": "3.13.0"
  }
 },
 "nbformat": 4,
 "nbformat_minor": 2
}
