{
 "cells": [
  {
   "cell_type": "markdown",
   "metadata": {},
   "source": [
    "### Polymorphism\n",
    "Polymorphism is a core concept in Object-Oriented Programming (OOP) that allows objects of different classes to be treated as objects of a common superclass. It provides a way to perform a single action in different forms. Polymorphism is typically achieved through method overriding and interfaces"
   ]
  },
  {
   "cell_type": "markdown",
   "metadata": {},
   "source": [
    "### Concept of polymorphism-\n",
    "#### Method overriding\n",
    "Method overriding allows a child class to provide a specific implementation of a method that is already defined in its parent class."
   ]
  },
  {
   "cell_type": "code",
   "execution_count": 8,
   "metadata": {},
   "outputs": [],
   "source": [
    "#example of polymorphism\n",
    "\n",
    "#base class\n",
    "class shape:\n",
    "    def area(self):\n",
    "        print(\"the area of the fig is\")\n",
    "\n",
    "#derived class1\n",
    "class rectangle(shape):\n",
    "    def __init__(self,height,width):\n",
    "        self.height=height\n",
    "        self.width=width\n",
    "    \n",
    "    def area(self):\n",
    "        return self.width*self.height\n",
    "    \n",
    "#derived class2\n",
    "class circle(shape):\n",
    "    def __init__(self,radius):\n",
    "        self.radius=radius\n",
    "    \n",
    "    def area(self):\n",
    "        return 3.14*self.radius*self.radius"
   ]
  },
  {
   "cell_type": "code",
   "execution_count": 9,
   "metadata": {},
   "outputs": [
    {
     "name": "stdout",
     "output_type": "stream",
     "text": [
      "the area of the fig is\n",
      "the area of the figure is None\n",
      "the area of the figure is 12.56\n"
     ]
    }
   ],
   "source": [
    "#function that demonstrates polymorphism\n",
    "\n",
    "def print_area(shape):\n",
    "    print(f\"the area of the figure is {shape.area()}\")\n",
    "\n",
    "#define objects\n",
    "rec=rectangle(3,4)\n",
    "cir=circle(2)\n",
    "\n",
    "#calling function\n",
    "print_area(rec)\n",
    "print_area(cir)"
   ]
  },
  {
   "cell_type": "code",
   "execution_count": null,
   "metadata": {},
   "outputs": [],
   "source": []
  }
 ],
 "metadata": {
  "kernelspec": {
   "display_name": "Python 3",
   "language": "python",
   "name": "python3"
  },
  "language_info": {
   "codemirror_mode": {
    "name": "ipython",
    "version": 3
   },
   "file_extension": ".py",
   "mimetype": "text/x-python",
   "name": "python",
   "nbconvert_exporter": "python",
   "pygments_lexer": "ipython3",
   "version": "3.13.0"
  }
 },
 "nbformat": 4,
 "nbformat_minor": 2
}
