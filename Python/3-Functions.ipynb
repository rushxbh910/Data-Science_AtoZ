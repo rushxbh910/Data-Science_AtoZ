{
 "cells": [
  {
   "cell_type": "markdown",
   "metadata": {},
   "source": [
    "Functions in Python"
   ]
  },
  {
   "cell_type": "code",
   "execution_count": null,
   "metadata": {},
   "outputs": [],
   "source": [
    "\"\"\"\n",
    "Intro to functions\n",
    "Defining functions\n",
    "Calling functions\n",
    "Function parameters\n",
    "Default parameters\n",
    "Variable-Length Arguements\n",
    "Return Statement\n",
    "\"\"\""
   ]
  },
  {
   "cell_type": "code",
   "execution_count": null,
   "metadata": {},
   "outputs": [],
   "source": [
    "#introduction to functions\n",
    "\"\"\"\n",
    "Syntax:\n",
    "\n",
    "def function_name(parameters):\n",
    "    *Doctstring*\n",
    "    #function body\n",
    "    return expression\n",
    "\"\"\""
   ]
  },
  {
   "cell_type": "code",
   "execution_count": 1,
   "metadata": {},
   "outputs": [],
   "source": [
    "def eve_or_odd(num):\n",
    "    if num%2==0:\n",
    "        print(\"even\")\n",
    "    else:\n",
    "        print(\"odd\")"
   ]
  },
  {
   "cell_type": "code",
   "execution_count": null,
   "metadata": {},
   "outputs": [
    {
     "name": "stdout",
     "output_type": "stream",
     "text": [
      "even\n"
     ]
    }
   ],
   "source": [
    "#calling a function\n",
    "num=24\n",
    "eve_or_odd(num)"
   ]
  },
  {
   "cell_type": "code",
   "execution_count": 6,
   "metadata": {},
   "outputs": [
    {
     "name": "stdout",
     "output_type": "stream",
     "text": [
      "12\n"
     ]
    }
   ],
   "source": [
    "#multiple parameters\n",
    "\n",
    "def add(a,b):\n",
    "    return a+b\n",
    "\n",
    "result=add(3,9)\n",
    "print(result)"
   ]
  },
  {
   "cell_type": "code",
   "execution_count": 11,
   "metadata": {},
   "outputs": [
    {
     "name": "stdout",
     "output_type": "stream",
     "text": [
      "hello Guest welcome home\n"
     ]
    }
   ],
   "source": [
    "#Default parameters\n",
    "\n",
    "def greet(name=\"Guest\"):\n",
    "    print(f\"hello {name} welcome home\")\n",
    "\n",
    "greet()"
   ]
  },
  {
   "cell_type": "code",
   "execution_count": null,
   "metadata": {},
   "outputs": [],
   "source": [
    "#Variable length arguments\n",
    "#1- positional arguments\n",
    "#2- keyword arguments"
   ]
  },
  {
   "cell_type": "code",
   "execution_count": 20,
   "metadata": {},
   "outputs": [],
   "source": [
    "\"\"\"\n",
    "1- positional arguments\n",
    "\n",
    "def print_numbers(num1,num2,num3,num4,num5) = def print_numbers(*args)\n",
    "\n",
    "\"\"\"\n",
    "\n",
    "def print_nums(*args):\n",
    "    for numbers in args:\n",
    "        print(numbers,  end=\" \")"
   ]
  },
  {
   "cell_type": "code",
   "execution_count": 22,
   "metadata": {},
   "outputs": [
    {
     "name": "stdout",
     "output_type": "stream",
     "text": [
      "1 2 3 4 5 6 rush "
     ]
    }
   ],
   "source": [
    "print_nums(1,2,3,4,5,6,\"rush\")"
   ]
  },
  {
   "cell_type": "code",
   "execution_count": 26,
   "metadata": {},
   "outputs": [],
   "source": [
    "#2- keywords argument\n",
    "\n",
    "def print_details(**kwargs):\n",
    "    for key,value in kwargs.items():\n",
    "        print(f\"{key}:{value}\")"
   ]
  },
  {
   "cell_type": "code",
   "execution_count": 27,
   "metadata": {},
   "outputs": [
    {
     "name": "stdout",
     "output_type": "stream",
     "text": [
      "name:rush\n",
      "age:22\n",
      "gender:male\n"
     ]
    }
   ],
   "source": [
    "print_details(name=\"rush\", age=\"22\", gender=\"male\")"
   ]
  },
  {
   "cell_type": "code",
   "execution_count": 39,
   "metadata": {},
   "outputs": [],
   "source": [
    "##including both positional and keyword arguments in the same function\n",
    "\n",
    "def print_dets(*args,**kwargs):\n",
    "    for i in args:\n",
    "        print(i)\n",
    "    \n",
    "    for key,value in kwargs.items():\n",
    "        print(f\"{key}:{value}\")"
   ]
  },
  {
   "cell_type": "code",
   "execution_count": null,
   "metadata": {},
   "outputs": [
    {
     "ename": "SyntaxError",
     "evalue": "positional argument follows keyword argument (3718384719.py, line 1)",
     "output_type": "error",
     "traceback": [
      "\u001b[1;36m  Cell \u001b[1;32mIn[36], line 1\u001b[1;36m\u001b[0m\n\u001b[1;33m    print_dets(name=\"rush\", age=\"22\", gender=\"male\", 1,2,3,4,5,6,\"rush\")\u001b[0m\n\u001b[1;37m                                                                       ^\u001b[0m\n\u001b[1;31mSyntaxError\u001b[0m\u001b[1;31m:\u001b[0m positional argument follows keyword argument\n"
     ]
    }
   ],
   "source": [
    "print_dets(name=\"rush\", age=\"22\", gender=\"male\", 1,2,3,4,5,6,\"rush\") #we can not have positional arguments after keyword argument"
   ]
  },
  {
   "cell_type": "code",
   "execution_count": 40,
   "metadata": {},
   "outputs": [
    {
     "name": "stdout",
     "output_type": "stream",
     "text": [
      "1\n",
      "2\n",
      "3\n",
      "4\n",
      "5\n",
      "6\n",
      "rush\n",
      "name:rush\n",
      "age:22\n",
      "gender:male\n"
     ]
    }
   ],
   "source": [
    "print_dets(1,2,3,4,5,6,\"rush\",name=\"rush\", age=\"22\", gender=\"male\")"
   ]
  },
  {
   "cell_type": "code",
   "execution_count": null,
   "metadata": {},
   "outputs": [
    {
     "data": {
      "text/plain": [
       "6"
      ]
     },
     "execution_count": 42,
     "metadata": {},
     "output_type": "execute_result"
    }
   ],
   "source": [
    "#Return Statement\n",
    "\n",
    "def multiply(a,b):\n",
    "    return a*b\n",
    "\n",
    "multiply(2,3)"
   ]
  },
  {
   "cell_type": "code",
   "execution_count": null,
   "metadata": {},
   "outputs": [
    {
     "data": {
      "text/plain": [
       "(6, 2)"
      ]
     },
     "execution_count": 43,
     "metadata": {},
     "output_type": "execute_result"
    }
   ],
   "source": [
    "#returning multiple parameters\n",
    "\n",
    "\n",
    "def multiply(a,b):\n",
    "    return a*b,a\n",
    "\n",
    "multiply(2,3)"
   ]
  },
  {
   "cell_type": "markdown",
   "metadata": {},
   "source": [
    "Coding Examples with Function in Python"
   ]
  },
  {
   "cell_type": "code",
   "execution_count": null,
   "metadata": {},
   "outputs": [],
   "source": [
    "\"\"\"\n",
    "Example 1: Temperature Conversion\n",
    "Example 2: Password Strength Checker\n",
    "Example 3: Calculate the Total Cost Of Items In a Shopping Cart\n",
    "Example 4: Check IF a String Is Palindrome\n",
    "Example 5: Calculate the factorials of a number using recursion\n",
    "Example 6: A Function To Read A File and count the frequency of each word\n",
    "Example 7: Validate Email Address\n",
    "\n",
    "\"\"\""
   ]
  },
  {
   "cell_type": "markdown",
   "metadata": {},
   "source": [
    "Example 1: Temperature Conversion"
   ]
  },
  {
   "cell_type": "code",
   "execution_count": 47,
   "metadata": {},
   "outputs": [],
   "source": [
    "def temp_conv(temp,unit):\n",
    "    \"\"\"this func converts temp between celsius and farenheit\"\"\"\n",
    "    if unit=='c':\n",
    "        return (temp * 9/5 + 32) #celsius to farenheit\n",
    "    \n",
    "    elif unit=='f':\n",
    "        return (temp-32)*5/9 ## Fahrenheit to celsius\n",
    "    else:\n",
    "        return \"wrong input\""
   ]
  },
  {
   "cell_type": "code",
   "execution_count": 48,
   "metadata": {},
   "outputs": [
    {
     "data": {
      "text/plain": [
       "'wrong input'"
      ]
     },
     "execution_count": 48,
     "metadata": {},
     "output_type": "execute_result"
    }
   ],
   "source": [
    "t=int(input(\"enter temp\"))\n",
    "u=input(\"enter unit- c or f\")\n",
    "temp_conv(t,u)"
   ]
  },
  {
   "cell_type": "markdown",
   "metadata": {},
   "source": [
    "Example 2: Password Strength Checker"
   ]
  },
  {
   "cell_type": "code",
   "execution_count": 69,
   "metadata": {},
   "outputs": [
    {
     "name": "stderr",
     "output_type": "stream",
     "text": [
      "<>:12: SyntaxWarning: invalid escape sequence '\\ '\n",
      "<>:12: SyntaxWarning: invalid escape sequence '\\ '\n",
      "C:\\Users\\rushx\\AppData\\Local\\Temp\\ipykernel_12832\\1220347986.py:12: SyntaxWarning: invalid escape sequence '\\ '\n",
      "  if any(i in '! @ # $ % ^ & * ( ) - _ = + \\ | [ ] { } ; : / ? . >' for i in password)==False:\n"
     ]
    }
   ],
   "source": [
    "def is_strong_pass(password):\n",
    "    \"\"\"this func checks if the password is strong or not\"\"\"\n",
    "\n",
    "    if len(password)<8:\n",
    "        return False\n",
    "    if any(i.isdigit() for i in password)==False:\n",
    "        return False\n",
    "    if any(i.isupper() for i in password)==False:\n",
    "        return False\n",
    "    if any(i.lower() for i in password)==False:\n",
    "        return False\n",
    "    if any(i in '! @ # $ % ^ & * ( ) - _ = + \\ | [ ] { } ; : / ? . >' for i in password)==False:\n",
    "        return False\n",
    "    return True\n",
    "    "
   ]
  },
  {
   "cell_type": "code",
   "execution_count": 74,
   "metadata": {},
   "outputs": [
    {
     "name": "stdout",
     "output_type": "stream",
     "text": [
      "True\n",
      "False\n"
     ]
    }
   ],
   "source": [
    "print(is_strong_pass(\"Strongpassword/1\"))\n",
    "print(is_strong_pass(\"Weakpassword\"))"
   ]
  },
  {
   "cell_type": "markdown",
   "metadata": {},
   "source": [
    "Example 3: Calculate the Total Cost Of Items In a Shopping Cart"
   ]
  },
  {
   "cell_type": "code",
   "execution_count": 82,
   "metadata": {},
   "outputs": [
    {
     "data": {
      "text/plain": [
       "23"
      ]
     },
     "execution_count": 82,
     "metadata": {},
     "output_type": "execute_result"
    }
   ],
   "source": [
    "def total_cost_of_items(cart):\n",
    "    t_cost=0\n",
    "    for item in cart:\n",
    "        t_cost+= item['value']*item['quantity']\n",
    "    return t_cost\n",
    "\n",
    "\n",
    "\n",
    "cart=[{\"name\":\"apple\",\"value\":2,\"quantity\":2},{\"name\":\"bananna\",\"value\":3,\"quantity\":5},\n",
    "      {\"name\":\"grapes\",\"value\":2,\"quantity\":2}]\n",
    "\n",
    "total_cost_of_items(cart)"
   ]
  },
  {
   "cell_type": "markdown",
   "metadata": {},
   "source": [
    "Example 4: Check IF a String Is Palindrome"
   ]
  },
  {
   "cell_type": "code",
   "execution_count": null,
   "metadata": {},
   "outputs": [
    {
     "data": {
      "text/plain": [
       "True"
      ]
     },
     "execution_count": 87,
     "metadata": {},
     "output_type": "execute_result"
    }
   ],
   "source": [
    "def is_palidrome(word):\n",
    "    reverse_word= word[::-1]\n",
    "    if word == reverse_word:\n",
    "        return True\n",
    "    else:\n",
    "        return False\n",
    "   \n",
    "word=\"aaa\"\n",
    "is_palidrome(word)"
   ]
  },
  {
   "cell_type": "markdown",
   "metadata": {},
   "source": [
    "Example 5: Calculate the factorials of a number using recursion"
   ]
  }
 ],
 "metadata": {
  "kernelspec": {
   "display_name": "Python 3",
   "language": "python",
   "name": "python3"
  },
  "language_info": {
   "codemirror_mode": {
    "name": "ipython",
    "version": 3
   },
   "file_extension": ".py",
   "mimetype": "text/x-python",
   "name": "python",
   "nbconvert_exporter": "python",
   "pygments_lexer": "ipython3",
   "version": "3.13.0"
  }
 },
 "nbformat": 4,
 "nbformat_minor": 2
}
